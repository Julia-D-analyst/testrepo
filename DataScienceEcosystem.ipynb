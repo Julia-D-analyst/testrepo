{
 "cells": [
  {
   "cell_type": "markdown",
   "id": "ab05544e-77cc-49f6-b616-fe6560473d99",
   "metadata": {},
   "source": [
    "# Data Science Tools and Ecosystem"
   ]
  },
  {
   "cell_type": "markdown",
   "id": "71a41fc4-c411-4e58-8967-d3c7e1cb6008",
   "metadata": {},
   "source": [
    "In this notebook, Data Science Tools and Ecosystem are summarized."
   ]
  },
  {
   "cell_type": "markdown",
   "id": "1fa48b8a-f5ae-4683-a348-ba7e4a0564d8",
   "metadata": {},
   "source": [
    "**Objectives:**\n",
    "- Data Exploration and Analysis\n",
    "- Visualization\n",
    "- Interactive Code Execution"
   ]
  },
  {
   "cell_type": "markdown",
   "id": "afd6439a-1a13-4f39-98d4-b0ef08b285ce",
   "metadata": {},
   "source": [
    "Some of the popular languages that Data Scientists use are:\n",
    "1. Python\n",
    "2. SQL\n",
    "3. R\n",
    "4. JavaScript"
   ]
  },
  {
   "cell_type": "markdown",
   "id": "18432b12-680a-46ec-b31c-03090b13368e",
   "metadata": {},
   "source": [
    "Some of the commonly used libraries used by Data Scientists include:\n",
    "\n",
    "1. NumPy\n",
    "2. Matplotlib\n",
    "3. Pandas"
   ]
  },
  {
   "cell_type": "markdown",
   "id": "856462ab-e8dd-4552-b359-68774df98d7f",
   "metadata": {},
   "source": [
    "| Data Science Tools |\n",
    "|:--------:|\n",
    "|  Apache Spark   |  \n",
    "|  Keras   | \n",
    "|  Jupyter Notebook  |"
   ]
  },
  {
   "cell_type": "markdown",
   "id": "4cd283a1-6b78-4f68-aed0-4041ab06875c",
   "metadata": {},
   "source": [
    "### Below are a few examples of evaluating arithmetic expressions in Python"
   ]
  },
  {
   "cell_type": "markdown",
   "id": "c3ce1a17-c706-41f5-9d81-f0cb6c3ada10",
   "metadata": {},
   "source": [
    "This a simple arithmetic expression to mutiply then add integers"
   ]
  },
  {
   "cell_type": "code",
   "execution_count": null,
   "id": "2b98c803-a789-4518-beaa-2fece5c4c350",
   "metadata": {},
   "outputs": [],
   "source": [
    "minutes = 200\n",
    "hours = minutes / 60\n",
    "print(f\"{minutes} minutes is equal to {hours:.2f} hours.\")"
   ]
  },
  {
   "cell_type": "markdown",
   "id": "abc87d8e-a2b7-4c0c-a550-aa93ba08e29e",
   "metadata": {},
   "source": [
    "## Author\n",
    "Yuliia Dmytrenko"
   ]
  },
  {
   "cell_type": "code",
   "execution_count": null,
   "id": "b405b546-f1a2-4742-9cb5-2adb22b6de0c",
   "metadata": {},
   "outputs": [],
   "source": []
  }
 ],
 "metadata": {
  "kernelspec": {
   "display_name": "Python 3 (ipykernel)",
   "language": "python",
   "name": "python3"
  },
  "language_info": {
   "codemirror_mode": {
    "name": "ipython",
    "version": 3
   },
   "file_extension": ".py",
   "mimetype": "text/x-python",
   "name": "python",
   "nbconvert_exporter": "python",
   "pygments_lexer": "ipython3",
   "version": "3.12.7"
  }
 },
 "nbformat": 4,
 "nbformat_minor": 5
}
